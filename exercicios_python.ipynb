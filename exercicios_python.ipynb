{
  "cells": [
    {
      "cell_type": "markdown",
      "metadata": {
        "id": "4NLfGXipB7EM"
      },
      "source": [
        "# Exercícios"
      ]
    },
    {
      "cell_type": "markdown",
      "metadata": {
        "id": "WFgMO5qVB7EU"
      },
      "source": [
        "1. Escreva um algoritmo que imprima na tela: Olá Mundo!"
      ]
    },
    {
      "cell_type": "code",
      "execution_count": null,
      "metadata": {
        "colab": {
          "base_uri": "https://localhost:8080/"
        },
        "id": "3KLRww06B7EW",
        "outputId": "22da75fd-6016-4fde-82b2-51b625e1688a"
      },
      "outputs": [
        {
          "output_type": "stream",
          "name": "stdout",
          "text": [
            "Olá Mundo!\n"
          ]
        }
      ],
      "source": [
        "print(\"Olá Mundo!\")"
      ]
    },
    {
      "cell_type": "markdown",
      "metadata": {
        "id": "0XOlE3eCB7EX"
      },
      "source": [
        "2. Escreva um programa que imprima seu nome na tela."
      ]
    },
    {
      "cell_type": "code",
      "execution_count": null,
      "metadata": {
        "colab": {
          "base_uri": "https://localhost:8080/"
        },
        "id": "8ZoK44rwB7EY",
        "outputId": "d2963622-6dbf-48bd-d9ad-5ce1be74724b"
      },
      "outputs": [
        {
          "output_type": "stream",
          "name": "stdout",
          "text": [
            "Pedro Eduardo\n"
          ]
        }
      ],
      "source": [
        "print(\"Pedro Eduardo\")"
      ]
    },
    {
      "cell_type": "markdown",
      "metadata": {
        "id": "dqd_zosJB7EZ"
      },
      "source": [
        "3. O que o código a seguir imprime?\n",
        "\n",
        "```python\n",
        "print(\"*\\n**\\n***\\n****\\n*****\")\n",
        "```"
      ]
    },
    {
      "cell_type": "code",
      "execution_count": null,
      "metadata": {
        "colab": {
          "base_uri": "https://localhost:8080/"
        },
        "id": "Cmrp6oWmB7Eb",
        "outputId": "7cefbab1-1e64-4a9c-9231-6e3f84e6f4eb"
      },
      "outputs": [
        {
          "output_type": "stream",
          "name": "stdout",
          "text": [
            "*\n",
            "**\n",
            "***\n",
            "****\n",
            "*****\n"
          ]
        }
      ],
      "source": [
        "print(\"*\\n**\\n***\\n****\\n*****\")"
      ]
    },
    {
      "cell_type": "markdown",
      "metadata": {
        "id": "oDLjSOtTB7Ec"
      },
      "source": [
        "4. O que aparece na janela do console, quando cada uma das instruções abaixo são executadas, para: x = 2 e y = 3? Execute cada uma das linhas abaixos e, se necessário, faça os devidos ajustes no código.\n",
        "    1. *print(“x = ” + x);*\n",
        "    2. *print(“O valor de x + x é ” + (x + x));*\n",
        "    3. *print(“x = ”);*\n",
        "    4. *print((x + y) + “ = “ + (y + x));*\n"
      ]
    },
    {
      "cell_type": "code",
      "execution_count": null,
      "metadata": {
        "colab": {
          "base_uri": "https://localhost:8080/"
        },
        "id": "g5ifrwk6B7Ee",
        "outputId": "b15ff141-7839-4479-8099-ff88659edcdd"
      },
      "outputs": [
        {
          "output_type": "stream",
          "name": "stdout",
          "text": [
            "x =  2\n",
            "O valor de x + x é 4\n",
            "x =  2\n",
            "5  =  5\n"
          ]
        }
      ],
      "source": [
        "x = 2\n",
        "y = 3\n",
        "print(\"x = \" ,x)\n",
        "print(\"O valor de x + x é\" ,(x + x))\n",
        "print(\"x = \" , x)\n",
        "print((x + y) , \" = \" , (y + x))\n"
      ]
    },
    {
      "cell_type": "markdown",
      "metadata": {
        "id": "RUHLt_SqB7Ef"
      },
      "source": [
        "5. Escreva um algoritmo que imprima na tela a seguinte mensagem:\n",
        "\n",
        "> A programação é aprendida escrevendo programas - \n",
        "> Brian Kernighan\n"
      ]
    },
    {
      "cell_type": "code",
      "execution_count": null,
      "metadata": {
        "colab": {
          "base_uri": "https://localhost:8080/"
        },
        "id": "OFICXIgFB7Eg",
        "outputId": "b1251be3-e810-41ff-9cab-890a41308373"
      },
      "outputs": [
        {
          "output_type": "stream",
          "name": "stdout",
          "text": [
            "A programação é aprendida escrevendo programas - Brian Kernighan\n"
          ]
        }
      ],
      "source": [
        "print (\"A programação é aprendida escrevendo programas - Brian Kernighan\")"
      ]
    },
    {
      "cell_type": "markdown",
      "metadata": {
        "id": "Yuug6pDmB7Eg"
      },
      "source": [
        "6. Crie um algoritmo que imprima o produto entre os números 25 e 27"
      ]
    },
    {
      "cell_type": "code",
      "execution_count": null,
      "metadata": {
        "colab": {
          "base_uri": "https://localhost:8080/"
        },
        "id": "rlRJib7MB7Eh",
        "outputId": "5eeba1b7-cfb3-4bf8-8ce5-ace16429203b"
      },
      "outputs": [
        {
          "output_type": "stream",
          "name": "stdout",
          "text": [
            "O produto é:  675\n"
          ]
        }
      ],
      "source": [
        "x = 25\n",
        "y = 27\n",
        "produto = (x * y)\n",
        "print(\"O produto é: \",produto)"
      ]
    },
    {
      "cell_type": "markdown",
      "metadata": {
        "id": "Y1InSSI9B7Eh"
      },
      "source": [
        "7. Crie um algoritmo que imprima a média aritmética entre os números 4, 12, 15."
      ]
    },
    {
      "cell_type": "code",
      "execution_count": null,
      "metadata": {
        "id": "ywj2W6QBB7Ei",
        "colab": {
          "base_uri": "https://localhost:8080/"
        },
        "outputId": "c3cbeb75-085a-4947-bfa0-1989e274017c"
      },
      "outputs": [
        {
          "output_type": "stream",
          "name": "stdout",
          "text": [
            "A media aritmética entre os números 4, 12 e 15 é:  10.333333333333334\n"
          ]
        }
      ],
      "source": [
        "x = 4\n",
        "y = 12\n",
        "z = 15\n",
        "\n",
        "media = (x + y + z) / 3\n",
        "\n",
        "print(\"A media aritmética entre os números 4, 12 e 15 é: \", media)"
      ]
    },
    {
      "cell_type": "markdown",
      "metadata": {
        "id": "ILEM9EoxB7Ei"
      },
      "source": [
        "8. Faça um programa que leia um número inteiro e mostre-o na tela da seguinte forma: \n",
        "\n",
        "> O número inteiro digitado foi 4."
      ]
    },
    {
      "cell_type": "code",
      "execution_count": null,
      "metadata": {
        "id": "MRtIn3j1B7Ej",
        "colab": {
          "base_uri": "https://localhost:8080/"
        },
        "outputId": "a52075ba-0975-4bcf-d7ee-15d05bf3936a"
      },
      "outputs": [
        {
          "output_type": "stream",
          "name": "stdout",
          "text": [
            "Digite um número inteiro: 5\n",
            "O número digitado foi:  5.0\n"
          ]
        }
      ],
      "source": [
        "a = int(input('Digite um número inteiro: '))\n",
        "print(\"O número digitado foi: \", a )"
      ]
    },
    {
      "cell_type": "markdown",
      "metadata": {
        "id": "_QkdzFA6B7Ej"
      },
      "source": [
        "9. Faça um programa que leia e imprima dois números inteiros na tela."
      ]
    },
    {
      "cell_type": "code",
      "execution_count": null,
      "metadata": {
        "id": "N1b83fy4B7Ej",
        "colab": {
          "base_uri": "https://localhost:8080/"
        },
        "outputId": "54ddcb8d-4410-445a-dac6-4d7e4b01be88"
      },
      "outputs": [
        {
          "output_type": "stream",
          "name": "stdout",
          "text": [
            "Digite o primeiro número inteiro: 5\n",
            "Digite o segundo número inteiro: 9\n",
            "O primeiro número digitado foi:  5.0\n",
            "O segundo número digitado foi:  9.0\n"
          ]
        }
      ],
      "source": [
        "a = int(input('Digite o primeiro número inteiro: '))\n",
        "b = int(input('Digite o segundo número inteiro: '))\n",
        "\n",
        "print(\"O primeiro número digitado foi: \" , a)\n",
        "print(\"O segundo número digitado foi: \" , b)"
      ]
    },
    {
      "cell_type": "markdown",
      "metadata": {
        "id": "RBTYmBnzB7Ek"
      },
      "source": [
        "10. Faça um programa que leia um número inteiro e imprima seu número sucessor e antecessor."
      ]
    },
    {
      "cell_type": "code",
      "execution_count": null,
      "metadata": {
        "id": "9V3s9j8XB7Ek",
        "colab": {
          "base_uri": "https://localhost:8080/"
        },
        "outputId": "0e7ae3ba-b3bf-4972-f20b-47add4e4477f"
      },
      "outputs": [
        {
          "output_type": "stream",
          "name": "stdout",
          "text": [
            "Digite um número inteiro: 5\n",
            "O número digitado foi:  5\n",
            "O antecessor do número digitado é:  4\n",
            "O sucessor do número digitado é:  6\n"
          ]
        }
      ],
      "source": [
        "a = int(input('Digite um número inteiro: '))\n",
        "antecessor = (a - 1)\n",
        "sucessor = (a + 1)\n",
        "print(\"O número digitado foi: \", a )\n",
        "print(\"O antecessor do número digitado é: \", antecessor )\n",
        "print(\"O sucessor do número digitado é: \", sucessor )"
      ]
    },
    {
      "cell_type": "markdown",
      "metadata": {
        "id": "KWsFjRThB7El"
      },
      "source": [
        "11. Faça um programa que leia o nome, endereço e telefone de um usuário e imprima na tela."
      ]
    },
    {
      "cell_type": "code",
      "execution_count": null,
      "metadata": {
        "id": "NBZdMiQtB7El",
        "colab": {
          "base_uri": "https://localhost:8080/"
        },
        "outputId": "524f3fc7-66b0-453a-bd7a-a90e9e71443b"
      },
      "outputs": [
        {
          "output_type": "stream",
          "name": "stdout",
          "text": [
            "Digite seu nome: pedro\n",
            "Digite seu endereço: bacuri\n",
            "Digite o DDD de seu teledone: 31\n",
            "Digite o seu telefone: 33333333\n",
            "O nome do usuário é:  pedro\n",
            "O endereço do usuário é:  bacuri\n",
            "O telefone do usuário é:  ( 31 ) 33333333\n"
          ]
        }
      ],
      "source": [
        "nome = input(\"Digite seu nome: \")\n",
        "endereco = input(\"Digite seu endereço: \")\n",
        "ddd = input(\"Digite o DDD de seu teledone: \")\n",
        "telefone = input(\"Digite o seu telefone: \")\n",
        "\n",
        "print(\"O nome do usuário é: \" , nome)\n",
        "print(\"O endereço do usuário é: \" , endereco)\n",
        "print(\"O telefone do usuário é: \" , \"(\" , ddd , \")\" , telefone)\n"
      ]
    },
    {
      "cell_type": "markdown",
      "metadata": {
        "id": "oGpq5eKlB7El"
      },
      "source": [
        "12. Faça um programa que leia e multiplique dois números inteiros."
      ]
    },
    {
      "cell_type": "code",
      "execution_count": null,
      "metadata": {
        "id": "MbG-s9POB7Em",
        "colab": {
          "base_uri": "https://localhost:8080/"
        },
        "outputId": "dcf7c68f-ddf6-481b-96ef-90dfba9dd23d"
      },
      "outputs": [
        {
          "output_type": "stream",
          "name": "stdout",
          "text": [
            "Digite o primeiro número inteiro: 4\n",
            "Digite o segundo número inteiro: 6\n",
            "O resultado da multiplicação entre 4 e 6 é:  24\n"
          ]
        }
      ],
      "source": [
        "num1 = int(input(\"Digite o primeiro número inteiro: \"))\n",
        "num2 = int(input(\"Digite o segundo número inteiro: \"))\n",
        "mult = (num1 * num2)\n",
        "print(\"O resultado da multiplicação entre\" , num1 , \"e\" , num2 , \"é: \" , mult)"
      ]
    },
    {
      "cell_type": "markdown",
      "metadata": {
        "id": "y6r0u7qKB7Em"
      },
      "source": [
        "13. Faça um programa que leia um número real e imprima a terça parte deste número."
      ]
    },
    {
      "cell_type": "code",
      "execution_count": null,
      "metadata": {
        "id": "1YKAnL3pB7Em",
        "colab": {
          "base_uri": "https://localhost:8080/"
        },
        "outputId": "c828da51-3adf-482d-ff7b-7ea6af1b400a"
      },
      "outputs": [
        {
          "output_type": "stream",
          "name": "stdout",
          "text": [
            "Digite um número: 9\n",
            "A terça parte de 9.0 é 3.0\n"
          ]
        }
      ],
      "source": [
        "x = float(input('Digite um número: '))\n",
        "\n",
        "print(f'A terça parte de {x} é {x / 3}')"
      ]
    },
    {
      "cell_type": "markdown",
      "metadata": {
        "id": "mse1IuR6B7Em"
      },
      "source": [
        "14. Faça um programa que leia dois números inteiros e imprima o dividendo, divisor, quociente e resto da divisão"
      ]
    },
    {
      "cell_type": "code",
      "execution_count": null,
      "metadata": {
        "id": "iM1iBayHB7En",
        "colab": {
          "base_uri": "https://localhost:8080/"
        },
        "outputId": "7940ac2c-7071-4ffb-8b51-3e095f5cdaf6"
      },
      "outputs": [
        {
          "output_type": "stream",
          "name": "stdout",
          "text": [
            "Digite o primeiro número: 10\n",
            "Digite o segundo número: 5\n",
            "\n",
            "Dividendo: 10 \n",
            "Divisor: 5 \n",
            "Quociente: 2 \n",
            "Resto: 0\n"
          ]
        }
      ],
      "source": [
        "a = int(input(\"Digite o primeiro número: \"))\n",
        "b = int(input(\"Digite o segundo número: \"))\n",
        "\n",
        "print(f'\\nDividendo: {a} \\nDivisor: {b} \\nQuociente: {int(a / b)} \\nResto: {a % b}')"
      ]
    },
    {
      "cell_type": "markdown",
      "metadata": {
        "id": "5oOtRY7RB7En"
      },
      "source": [
        "15. Escreva um programa que solicite do usuário dois números, e imprima o resultado da soma, subtração, multiplicação e divisão."
      ]
    },
    {
      "cell_type": "code",
      "execution_count": null,
      "metadata": {
        "id": "3xxI6vRwB7En",
        "colab": {
          "base_uri": "https://localhost:8080/"
        },
        "outputId": "c080ae26-e47b-46f9-d25b-dd85912361ad"
      },
      "outputs": [
        {
          "output_type": "stream",
          "name": "stdout",
          "text": [
            "Digite o primeiro número: 10\n",
            "Digite o segundo número: 5\n",
            "\n",
            "Soma: 15.0 \n",
            "Subtração: 5.0 \n",
            "Multiplicação: 50.0 \n",
            "divisão: 2.0\n"
          ]
        }
      ],
      "source": [
        "a = float(input('Digite o primeiro número: '))\n",
        "b = float(input('Digite o segundo número: '))\n",
        "\n",
        "print(f'\\nSoma: {a+b} \\nSubtração: {a-b} \\nMultiplicação: {float(a*b)} \\ndivisão: {float(a/b)}')"
      ]
    },
    {
      "cell_type": "markdown",
      "metadata": {
        "id": "6PxNpOcJB7En"
      },
      "source": [
        "16. Faça um programa que leia quatro números inteiros, calcule e mostre a soma desses números."
      ]
    },
    {
      "cell_type": "code",
      "execution_count": null,
      "metadata": {
        "id": "YYa_hh_rB7Eo",
        "colab": {
          "base_uri": "https://localhost:8080/"
        },
        "outputId": "d9dc1b03-2c4f-469a-ca9e-88226a463817"
      },
      "outputs": [
        {
          "output_type": "stream",
          "name": "stdout",
          "text": [
            "Digite o primeiro número inteiro: 2\n",
            "Digite o segundo número inteiro: 4\n",
            "Digite o terceiro número inteiro: 8\n",
            "Digite o quarto número inteiro: 10\n",
            "\n",
            "A soma dos quatro números acima é: 24\n"
          ]
        }
      ],
      "source": [
        "num1 = int(input(\"Digite o primeiro número inteiro: \"))\n",
        "num2 = int(input(\"Digite o segundo número inteiro: \"))\n",
        "num3 = int(input(\"Digite o terceiro número inteiro: \"))\n",
        "num4 = int(input(\"Digite o quarto número inteiro: \"))\n",
        "print(f'\\nA soma dos quatro números acima é: {num1+num2+num3+num4}')"
      ]
    },
    {
      "cell_type": "markdown",
      "metadata": {
        "id": "snihjrN9B7Eo"
      },
      "source": [
        "17. Faça um programa que receba três notas, calcule e mostre a média aritmética."
      ]
    },
    {
      "cell_type": "code",
      "execution_count": null,
      "metadata": {
        "id": "iAf68mhNB7Eo",
        "colab": {
          "base_uri": "https://localhost:8080/"
        },
        "outputId": "97b7f195-c220-495b-9860-5f519e363c4d"
      },
      "outputs": [
        {
          "output_type": "stream",
          "name": "stdout",
          "text": [
            "Digite a primeira nota: 7.5\n",
            "Digite a segunda nota: 8.9\n",
            "Digite a terceira nota: 7.3\n",
            "\n",
            "A média aritmética das notas informadas é: 7.8999999999999995\n"
          ]
        }
      ],
      "source": [
        "a = float(input('Digite a primeira nota: '))\n",
        "b = float(input('Digite a segunda nota: '))\n",
        "c = float(input('Digite a terceira nota: '))\n",
        "print(f'\\nA média aritmética das notas informadas é: {float(a+b+c)/3}')\n"
      ]
    },
    {
      "cell_type": "markdown",
      "metadata": {
        "id": "pf_jgRFxB7Ep"
      },
      "source": [
        "18. Faça um programa que receba três notas e seus respectivos pesos, calcule e mostre a média ponderada."
      ]
    },
    {
      "cell_type": "code",
      "execution_count": null,
      "metadata": {
        "id": "dGZ_hQnPB7Ep",
        "colab": {
          "base_uri": "https://localhost:8080/"
        },
        "outputId": "db274a25-63eb-467e-e054-347e6309a4c1"
      },
      "outputs": [
        {
          "output_type": "stream",
          "name": "stdout",
          "text": [
            "Digite a primeira nota: 10\n",
            "Digite o peso da primeira nota: 1\n",
            "\n",
            "Digite a segunda nota: 9\n",
            "Digite o peso da segunda nota: 2\n",
            "\n",
            "Digite a terceira nota: 7\n",
            "Digite o peso da terceira nota: 3\n",
            "\n",
            "A média ponderada é 8.17\n"
          ]
        }
      ],
      "source": [
        "nota1 = float(input(\"Digite a primeira nota: \"))\n",
        "peso1 = int(input(\"Digite o peso da primeira nota: \"))\n",
        "\n",
        "nota2 = float(input(\"\\nDigite a segunda nota: \"))\n",
        "peso2 = int(input(\"Digite o peso da segunda nota: \"))\n",
        "\n",
        "nota3 = float(input(\"\\nDigite a terceira nota: \"))\n",
        "peso3 = int(input(\"Digite o peso da terceira nota: \"))\n",
        "\n",
        "notas = (nota1 * peso1) + (nota2 * peso2) + (nota3 * peso3)\n",
        "pesos = peso1 + peso2 + peso3\n",
        "\n",
        "total = notas / pesos\n",
        "\n",
        "print(f'\\nA média ponderada é {total:.2f}')"
      ]
    },
    {
      "cell_type": "markdown",
      "metadata": {
        "id": "ouZqgu_IB7Ep"
      },
      "source": [
        "19. Faça um programa que receba o salário de um funcionário, calcule e mostre o novo salário, sabendo-se que este sofreu um aumento de 25%."
      ]
    },
    {
      "cell_type": "code",
      "execution_count": null,
      "metadata": {
        "id": "uVNP0nF7B7Eq",
        "colab": {
          "base_uri": "https://localhost:8080/"
        },
        "outputId": "3d4596df-9a9e-49b3-f57d-6a0b8459f7ff"
      },
      "outputs": [
        {
          "output_type": "stream",
          "name": "stdout",
          "text": [
            "Digite o salário do funcionário: 1000\n",
            "\n",
            "O novo salário é 1250.0\n"
          ]
        }
      ],
      "source": [
        "salario = float(input('Digite o salário do funcionário: '))\n",
        "\n",
        "aumento = salario * 0.25\n",
        "\n",
        "print(f'\\nO novo salário é {salario + aumento}')"
      ]
    },
    {
      "cell_type": "markdown",
      "metadata": {
        "id": "ExtxjJn4B7Eq"
      },
      "source": [
        "20. Faça um programa que receba o salário de um funcionário e o percentual de aumento, calcule e mostre o valor do aumento e o novo salário. "
      ]
    },
    {
      "cell_type": "code",
      "execution_count": null,
      "metadata": {
        "id": "2T_XJELQB7Eq",
        "colab": {
          "base_uri": "https://localhost:8080/"
        },
        "outputId": "86ceeb77-1d7d-4b7f-8be8-59fcb6daa2b7"
      },
      "outputs": [
        {
          "output_type": "stream",
          "name": "stdout",
          "text": [
            "Digite o salário do funcionário: 2500\n",
            "Digite o percentual de aumento: 10\n",
            "\n",
            "O novo salário é 2750.00\n"
          ]
        }
      ],
      "source": [
        "salario = float(input('Digite o salário do funcionário: '))\n",
        "aumento = float(input('Digite o percentual de aumento: '))\n",
        "\n",
        "aumento /= 100\n",
        "\n",
        "salario += salario * aumento\n",
        "\n",
        "print(f'\\nO novo salário é {salario:.2f}')"
      ]
    },
    {
      "cell_type": "markdown",
      "metadata": {
        "id": "TqH4c51jB7Eq"
      },
      "source": [
        "21.  Faça um programa que calcule e mostre a área de um triângulo. Sabe-se que: \n",
        "> Área = (base * altura) / 2."
      ]
    },
    {
      "cell_type": "code",
      "execution_count": null,
      "metadata": {
        "id": "UU5RrhBnB7Er",
        "colab": {
          "base_uri": "https://localhost:8080/"
        },
        "outputId": "021a953b-3793-4a7a-9f86-39c595e97887"
      },
      "outputs": [
        {
          "output_type": "stream",
          "name": "stdout",
          "text": [
            "Digite a base emm: 5\n",
            "Digite a altura: 10\n",
            "A área do triângulo é de 25.0\n"
          ]
        }
      ],
      "source": [
        "base = float(input('Digite a base emm: '))\n",
        "altura = float(input('Digite a altura: '))\n",
        "\n",
        "area = (base * altura) / 2\n",
        "\n",
        "print(f'A área do triângulo é de {float(area)}')"
      ]
    },
    {
      "cell_type": "markdown",
      "metadata": {
        "id": "XBWh_xmIB7Er"
      },
      "source": [
        "22. Escreva um programa que receba como entrada o raio de um círculo e imprima o diâmetro, a circunferência e a área. Para isso, utilize as fórmulas: diâmetro = 2r; circunferência = 2πr, área = πr²."
      ]
    },
    {
      "cell_type": "code",
      "execution_count": null,
      "metadata": {
        "id": "_RBk-vdAB7Er",
        "colab": {
          "base_uri": "https://localhost:8080/"
        },
        "outputId": "4dfebd72-515c-4b39-e7a5-efa4a924d13a"
      },
      "outputs": [
        {
          "output_type": "stream",
          "name": "stdout",
          "text": [
            "Digite o raio do círculo: 6\n",
            "\n",
            "Raio: 6.0 \n",
            "Diametro: 12.0 \n",
            "Circunferência: 37.69911184307752 \n",
            "Área: 113.09733552923255\n"
          ]
        }
      ],
      "source": [
        "import math\n",
        "\n",
        "raio = float(input('Digite o raio do círculo: '))\n",
        "\n",
        "diametro = 2 * raio\n",
        "circunferencia = 2 * math.pi * raio\n",
        "area = math.pi * (raio**2)\n",
        "\n",
        "print(f'\\nRaio: {raio} \\nDiametro: {diametro} \\nCircunferência: {circunferencia} \\nÁrea: {area}')"
      ]
    },
    {
      "cell_type": "markdown",
      "metadata": {
        "id": "2djvYr5lB7Es"
      },
      "source": [
        "23. Faça um programa que receba um número positivo e maior que zero, calcule e mostre:\n",
        "    1. o número digitado ao quadrado;\n",
        "    2. o número digitado ao cubo;\n",
        "    3. a raiz quadrada do número digitado."
      ]
    },
    {
      "cell_type": "code",
      "execution_count": null,
      "metadata": {
        "id": "Qk3PuBR0B7Es",
        "colab": {
          "base_uri": "https://localhost:8080/"
        },
        "outputId": "b06302d2-8584-40b2-8978-cb0921ab06b5"
      },
      "outputs": [
        {
          "output_type": "stream",
          "name": "stdout",
          "text": [
            "Digite um número maior que 0: 4\n",
            "\n",
            "Número ao quadrado: 16.0 \n",
            "Número ao cubo: 64.0 \n",
            "Raiz quadrada do número: 2.0\n"
          ]
        }
      ],
      "source": [
        "import math\n",
        "\n",
        "x = 0\n",
        "\n",
        "while x <= 0:\n",
        "  x = float(input('Digite um número maior que 0: '))\n",
        "\n",
        "quadrado = x**2\n",
        "cubo = x**3\n",
        "raiz = math.sqrt(x)\n",
        "\n",
        "print(f'\\nNúmero ao quadrado: {quadrado} \\nNúmero ao cubo: {cubo} \\nRaiz quadrada do número: {raiz}')"
      ]
    },
    {
      "cell_type": "markdown",
      "metadata": {
        "id": "Z1YY3_qWB7Es"
      },
      "source": [
        "24. Faça um programa que receba dois números maiores que zero, calcule e mostre um elevado ao outro."
      ]
    },
    {
      "cell_type": "code",
      "execution_count": null,
      "metadata": {
        "id": "sNLeVUkYB7Et",
        "colab": {
          "base_uri": "https://localhost:8080/"
        },
        "outputId": "4937ce79-772c-4e5f-9100-d50a38715bd4"
      },
      "outputs": [
        {
          "output_type": "stream",
          "name": "stdout",
          "text": [
            "Primeiro número maior que 0: 9\n",
            "Segundo número maior que 0: 5\n",
            "\n",
            "9 elevado a 5 é igual a 59049\n"
          ]
        }
      ],
      "source": [
        "x = 0\n",
        "\n",
        "while x <= 0:\n",
        "  x = int(input('Primeiro número maior que 0: '))\n",
        "\n",
        "y = 0\n",
        "\n",
        "while y <= 0:\n",
        "  y = int(input('Segundo número maior que 0: '))  \n",
        "\n",
        "result = x**y\n",
        "\n",
        "print(f'\\n{x} elevado a {y} é igual a {result}')"
      ]
    },
    {
      "cell_type": "markdown",
      "metadata": {
        "id": "BPUgXVs6B7Et"
      },
      "source": [
        "25. Sabe-se que: pé = 12 polegadas; 1 jarda = 3 pés e 1 milha = 1,760 jarda. Faça um programa que receba uma medida em pés, faça as conversões a seguir e mostre os resultados.\n",
        "    1. polegadas;\n",
        "    2. jardas;\n",
        "    3. milhas."
      ]
    },
    {
      "cell_type": "code",
      "execution_count": null,
      "metadata": {
        "id": "x-krf0bMB7Et",
        "colab": {
          "base_uri": "https://localhost:8080/"
        },
        "outputId": "27aaf352-0adf-4364-bea8-c5f0f97b65cf"
      },
      "outputs": [
        {
          "output_type": "stream",
          "name": "stdout",
          "text": [
            "Medida em pés: 50\n",
            "\n",
            "Polegadas: 600.0 \n",
            "Jardas: 16.666666666666668 \n",
            "Milhas: 0.00946969696969697\n"
          ]
        }
      ],
      "source": [
        "pe = float(input('Medida em pés: '))\n",
        "\n",
        "polegadas = pe * 12\n",
        "jarda = pe / 3\n",
        "milha = jarda / 1760\n",
        "\n",
        "print(f'\\nPolegadas: {polegadas} \\nJardas: {jarda} \\nMilhas: {milha}')"
      ]
    },
    {
      "cell_type": "markdown",
      "metadata": {
        "id": "lBk6aE7jB7Et"
      },
      "source": [
        "26. Escreva um programa que receba como entrada um número de 5 dígitos, separe o número em dígitos individuais e os imprima separados por 3 espaços cada um. Por exemplo, se o usuário digitar 42339, o programa deverá imprimir: 4    2    3    3.   Dica: utilize as operações de divisão e módulo para extrair cada dígito do número."
      ]
    },
    {
      "cell_type": "code",
      "execution_count": null,
      "metadata": {
        "id": "PH5yNo4_B7Eu",
        "colab": {
          "base_uri": "https://localhost:8080/"
        },
        "outputId": "32868e85-b517-4521-8a3d-a15463f91812"
      },
      "outputs": [
        {
          "output_type": "stream",
          "name": "stdout",
          "text": [
            "Digite um numero: 5689\n",
            "0     5     6     8     9\n"
          ]
        }
      ],
      "source": [
        "x = int(input('Digite um numero: '))\n",
        "\n",
        "digito1 = x % 10\n",
        "x = int(x / 10)\n",
        "\n",
        "digito2 = x % 10\n",
        "x = int(x / 10)\n",
        "\n",
        "digito3 = x % 10\n",
        "x = int(x / 10)\n",
        "\n",
        "digito4 = x % 10\n",
        "x = int(x / 10)\n",
        "\n",
        "digito5 = x % 10\n",
        "\n",
        "print(digito5, '   ', digito4, '   ', digito3, '   ', digito2, '   ', digito1)"
      ]
    },
    {
      "cell_type": "markdown",
      "metadata": {
        "id": "Zu5aj3rUB7Eu"
      },
      "source": [
        "27.  A nota final de um estudante é calculada a partir de três notas atribuídas, respectivamente, a um trabalho\n",
        "de laboratório, a uma avaliação semestral e a um exame final. A média das três notas mencionadas\n",
        "obedece aos pesos a seguir:\n",
        "\n",
        "| Nota                    | Peso |\n",
        "|-------------------------|------|\n",
        "| Trabalho de Laboratório | 2    |\n",
        "| Avaliação Semestral     | 3    |\n",
        "| Exame Final             | 5    |\n",
        "\n",
        "\n",
        "Faça um programa que receba as três notas, calcule e mostre a média ponderada e o conceito que segue\n",
        "a tabela:\n",
        "\n",
        "| Média Ponderada        | Conceito |\n",
        "|------------------------|----------|\n",
        "| 8,00 <= Média <= 10,00 | A        |\n",
        "| 7,00 <= Média < 8,00   | B        |\n",
        "| 6,00 <= Média < 7,00   | C        |\n",
        "| 5,00 <= Média < 6,00   | D        |\n",
        "| 0,00 <= Média < 5,00   | E        |"
      ]
    },
    {
      "cell_type": "code",
      "execution_count": null,
      "metadata": {
        "id": "eWNdMrA0B7Eu",
        "colab": {
          "base_uri": "https://localhost:8080/"
        },
        "outputId": "cf2d8521-a3a8-4ee3-ce13-62292202f46a"
      },
      "outputs": [
        {
          "output_type": "stream",
          "name": "stdout",
          "text": [
            "Digite a nota 1: 10\n",
            "Digite a nota 2: 7\n",
            "Digite a nota 3: 6\n",
            "\n",
            "Média: 7.1 \n",
            "Conceito: B\n"
          ]
        }
      ],
      "source": [
        "nota1 = float(input(\"Digite a nota 1: \")) * 2\n",
        "nota2 = float(input(\"Digite a nota 2: \")) * 3\n",
        "nota3 = float(input(\"Digite a nota 3: \")) * 5\n",
        "\n",
        "media = (nota1 + nota2 + nota3) / 10\n",
        "conceito = ' '\n",
        "\n",
        "if media >= 8 and media <= 10:\n",
        "  conceito = 'A'\n",
        "elif media >=7 and media < 8:\n",
        "  conceito = 'B'\n",
        "elif media >= 6 and media < 7:\n",
        "  conceito = 'C'\n",
        "elif media >= 5 and media < 6:\n",
        "  conceito = 'D'\n",
        "else:\n",
        "  conceito = 'E'\n",
        "\n",
        "print(f'\\nMédia: {media} \\nConceito: {conceito}')"
      ]
    },
    {
      "cell_type": "markdown",
      "metadata": {
        "id": "BxhGZkymB7Ev"
      },
      "source": [
        "28. Faça um programa que receba três notas de um aluno, calcule e mostre a média aritmética e a mensagem constante na tabela a seguir. \n",
        "\n",
        "| Média                  | Situação       |\n",
        "|------------------------|----------------|\n",
        "| 7,00 <= Média <= 10,00 | Aprovado       |\n",
        "| 3,00 <= Média < 7,00   | Exame Especial |\n",
        "| 0,00 <= Média < 3,00   | Reprovado      |"
      ]
    },
    {
      "cell_type": "code",
      "execution_count": null,
      "metadata": {
        "id": "PXtE9rxIB7Ev",
        "colab": {
          "base_uri": "https://localhost:8080/"
        },
        "outputId": "8490fee5-de46-4bb1-a71d-b789213c90b9"
      },
      "outputs": [
        {
          "output_type": "stream",
          "name": "stdout",
          "text": [
            "Digite a nota 1: 5\n",
            "Digite a nota 2: 7\n",
            "Digite a nota 3: 6\n",
            "\n",
            "Média: 6.0 \n",
            "Situação: Exame Especial\n"
          ]
        }
      ],
      "source": [
        "nota1 = float(input(\"Digite a nota 1: \")) \n",
        "nota2 = float(input(\"Digite a nota 2: \")) \n",
        "nota3 = float(input(\"Digite a nota 3: \")) \n",
        "\n",
        "media = (nota1 + nota2 + nota3) / 3\n",
        "conceito = ' '\n",
        "\n",
        "if media >= 7 and media <= 10:\n",
        "  conceito = 'Aprovado'\n",
        "elif media >= 3 and media < 7:\n",
        "  conceito = 'Exame Especial'\n",
        "else:\n",
        "  conceito = 'Reprovado'\n",
        "\n",
        "print(f'\\nMédia: {media} \\nSituação: {conceito}')"
      ]
    },
    {
      "cell_type": "markdown",
      "metadata": {
        "id": "YPW2YJNMB7Ev"
      },
      "source": [
        "29. Faça um programa para resolver equações do 2º grau.\n",
        "\n",
        "$$\n",
        "a^{2} + bx + c = 0\n",
        "$$\n",
        "\n",
        "\n",
        "Onde x é uma variável, sendo a, b e c constantes, com a ≠ 0 \n",
        "\n",
        "\n",
        "$$\n",
        "\\Delta = b^{2} - 4ac\n",
        "$$\n",
        "\n",
        "$$\n",
        "\\Delta < 0 \\rightarrow não \\: existe  \\: raiz  \\: real\n",
        "$$\n",
        "\n",
        "$$\n",
        "\\Delta = 0 \\rightarrow  existe  \\: raiz  \\: real\n",
        "$$\n",
        "\n",
        "$$\n",
        "x = \\frac{-b}{2a}\n",
        "$$\n",
        "\n",
        "\n",
        "\n",
        "$$\n",
        "\\Delta > 0 \\rightarrow existem \\: duas  \\: raizes  \\: reais\n",
        "$$\n",
        "\n",
        "\n",
        "$$\n",
        "x_1 = \\frac{-b \\: + \\: \\sqrt{\\Delta } }{2a}\n",
        "$$\n",
        "\n",
        "$$\n",
        "x_2 = \\frac{-b \\: - \\: \\sqrt{\\Delta } }{2a}\n",
        "$$"
      ]
    },
    {
      "cell_type": "code",
      "execution_count": null,
      "metadata": {
        "id": "xoU5DwQPB7Ev",
        "colab": {
          "base_uri": "https://localhost:8080/"
        },
        "outputId": "6ee1c9db-f940-43af-e68d-486feec9e2b4"
      },
      "outputs": [
        {
          "name": "stdout",
          "output_type": "stream",
          "text": [
            "Calculando as raízes de uma equação de 2º grau\n",
            "\n",
            "Entre com o valor de a: 5\n",
            "Entre com o valor de b: 4\n",
            "Entre com o valor de c: 2\n",
            "\n",
            "Valor de x1: (-0.39999999999999997+0.4898979485566356j)\n",
            "Valor de x2: (-0.4-0.4898979485566356j)\n",
            "Deseja sair? Digite sair ou Enter para novo cálculo:sair\n"
          ]
        }
      ],
      "source": [
        "def raizes(a, b, c):\n",
        "    D = (b**2 - 4*a*c)\n",
        "    x1 = (-b + D**(1/2)) / (2*a)\n",
        "    x2 = (-b - D**(1/2)) / (2*a)\n",
        "\n",
        "    print('\\nValor de x1: {0}'.format(x1))\n",
        "    print('Valor de x2: {0}'.format(x2))\n",
        "\n",
        "if __name__ == '__main__':\n",
        "    while True:\n",
        "        print('Calculando as raízes de uma equação de 2º grau\\n')\n",
        "        a = float(input('Entre com o valor de a: '))\n",
        "        b = float(input('Entre com o valor de b: '))\n",
        "        c = float(input('Entre com o valor de c: '))\n",
        "        raizes(a,b,c)\n",
        "\n",
        "        continua = input('Deseja sair? Digite sair ou Enter para novo cálculo:')\n",
        "        if (continua == 'sair'):\n",
        "            break"
      ]
    },
    {
      "cell_type": "markdown",
      "metadata": {
        "id": "pp4BNg1mB7Ew"
      },
      "source": [
        "30. Faça um programa que receba vários números, calcule e mostre:\n",
        "\n",
        "    - A soma dos números digitados;\n",
        "    - A quantidade de números digitados;\n",
        "    - A média dos números digitados;\n",
        "    - O maior número digitado;\n",
        "    - O menor número digitado;\n",
        "    - A média dos números pares;\n",
        "    - A porcentagem dos números ímpares entre todos os números digitados.\n",
        "\n",
        "Finalize a entrada de dados com a digitação do número 0."
      ]
    },
    {
      "cell_type": "code",
      "execution_count": 5,
      "metadata": {
        "id": "KSmUsa_9B7Ew",
        "colab": {
          "base_uri": "https://localhost:8080/",
          "height": 646
        },
        "outputId": "9afc4f97-77a5-409e-c46d-cc41814700a0"
      },
      "outputs": [
        {
          "output_type": "stream",
          "name": "stdout",
          "text": [
            "Digite um número: 56\n",
            "Sim [1] / Não [0] - Digitar outro número? 5\n",
            "Sim [1] / Não [0] - Digitar outro número? 5\n",
            "Sim [1] / Não [0] - Digitar outro número? 6\n",
            "Sim [1] / Não [0] - Digitar outro número? 1\n",
            "\n",
            "\n"
          ]
        },
        {
          "output_type": "error",
          "ename": "KeyboardInterrupt",
          "evalue": "ignored",
          "traceback": [
            "\u001b[0;31m---------------------------------------------------------------------------\u001b[0m",
            "\u001b[0;31mKeyboardInterrupt\u001b[0m                         Traceback (most recent call last)",
            "\u001b[0;32m/usr/local/lib/python3.7/dist-packages/ipykernel/kernelbase.py\u001b[0m in \u001b[0;36m_input_request\u001b[0;34m(self, prompt, ident, parent, password)\u001b[0m\n\u001b[1;32m    728\u001b[0m             \u001b[0;32mtry\u001b[0m\u001b[0;34m:\u001b[0m\u001b[0;34m\u001b[0m\u001b[0;34m\u001b[0m\u001b[0m\n\u001b[0;32m--> 729\u001b[0;31m                 \u001b[0mident\u001b[0m\u001b[0;34m,\u001b[0m \u001b[0mreply\u001b[0m \u001b[0;34m=\u001b[0m \u001b[0mself\u001b[0m\u001b[0;34m.\u001b[0m\u001b[0msession\u001b[0m\u001b[0;34m.\u001b[0m\u001b[0mrecv\u001b[0m\u001b[0;34m(\u001b[0m\u001b[0mself\u001b[0m\u001b[0;34m.\u001b[0m\u001b[0mstdin_socket\u001b[0m\u001b[0;34m,\u001b[0m \u001b[0;36m0\u001b[0m\u001b[0;34m)\u001b[0m\u001b[0;34m\u001b[0m\u001b[0;34m\u001b[0m\u001b[0m\n\u001b[0m\u001b[1;32m    730\u001b[0m             \u001b[0;32mexcept\u001b[0m \u001b[0mException\u001b[0m\u001b[0;34m:\u001b[0m\u001b[0;34m\u001b[0m\u001b[0;34m\u001b[0m\u001b[0m\n",
            "\u001b[0;32m/usr/local/lib/python3.7/dist-packages/jupyter_client/session.py\u001b[0m in \u001b[0;36mrecv\u001b[0;34m(self, socket, mode, content, copy)\u001b[0m\n\u001b[1;32m    802\u001b[0m         \u001b[0;32mtry\u001b[0m\u001b[0;34m:\u001b[0m\u001b[0;34m\u001b[0m\u001b[0;34m\u001b[0m\u001b[0m\n\u001b[0;32m--> 803\u001b[0;31m             \u001b[0mmsg_list\u001b[0m \u001b[0;34m=\u001b[0m \u001b[0msocket\u001b[0m\u001b[0;34m.\u001b[0m\u001b[0mrecv_multipart\u001b[0m\u001b[0;34m(\u001b[0m\u001b[0mmode\u001b[0m\u001b[0;34m,\u001b[0m \u001b[0mcopy\u001b[0m\u001b[0;34m=\u001b[0m\u001b[0mcopy\u001b[0m\u001b[0;34m)\u001b[0m\u001b[0;34m\u001b[0m\u001b[0;34m\u001b[0m\u001b[0m\n\u001b[0m\u001b[1;32m    804\u001b[0m         \u001b[0;32mexcept\u001b[0m \u001b[0mzmq\u001b[0m\u001b[0;34m.\u001b[0m\u001b[0mZMQError\u001b[0m \u001b[0;32mas\u001b[0m \u001b[0me\u001b[0m\u001b[0;34m:\u001b[0m\u001b[0;34m\u001b[0m\u001b[0;34m\u001b[0m\u001b[0m\n",
            "\u001b[0;32m/usr/local/lib/python3.7/dist-packages/zmq/sugar/socket.py\u001b[0m in \u001b[0;36mrecv_multipart\u001b[0;34m(self, flags, copy, track)\u001b[0m\n\u001b[1;32m    624\u001b[0m         \"\"\"\n\u001b[0;32m--> 625\u001b[0;31m         \u001b[0mparts\u001b[0m \u001b[0;34m=\u001b[0m \u001b[0;34m[\u001b[0m\u001b[0mself\u001b[0m\u001b[0;34m.\u001b[0m\u001b[0mrecv\u001b[0m\u001b[0;34m(\u001b[0m\u001b[0mflags\u001b[0m\u001b[0;34m,\u001b[0m \u001b[0mcopy\u001b[0m\u001b[0;34m=\u001b[0m\u001b[0mcopy\u001b[0m\u001b[0;34m,\u001b[0m \u001b[0mtrack\u001b[0m\u001b[0;34m=\u001b[0m\u001b[0mtrack\u001b[0m\u001b[0;34m)\u001b[0m\u001b[0;34m]\u001b[0m\u001b[0;34m\u001b[0m\u001b[0;34m\u001b[0m\u001b[0m\n\u001b[0m\u001b[1;32m    626\u001b[0m         \u001b[0;31m# have first part already, only loop while more to receive\u001b[0m\u001b[0;34m\u001b[0m\u001b[0;34m\u001b[0m\u001b[0;34m\u001b[0m\u001b[0m\n",
            "\u001b[0;32mzmq/backend/cython/socket.pyx\u001b[0m in \u001b[0;36mzmq.backend.cython.socket.Socket.recv\u001b[0;34m()\u001b[0m\n",
            "\u001b[0;32mzmq/backend/cython/socket.pyx\u001b[0m in \u001b[0;36mzmq.backend.cython.socket.Socket.recv\u001b[0;34m()\u001b[0m\n",
            "\u001b[0;32mzmq/backend/cython/socket.pyx\u001b[0m in \u001b[0;36mzmq.backend.cython.socket._recv_copy\u001b[0;34m()\u001b[0m\n",
            "\u001b[0;32m/usr/local/lib/python3.7/dist-packages/zmq/backend/cython/checkrc.pxd\u001b[0m in \u001b[0;36mzmq.backend.cython.checkrc._check_rc\u001b[0;34m()\u001b[0m\n",
            "\u001b[0;31mKeyboardInterrupt\u001b[0m: ",
            "\nDuring handling of the above exception, another exception occurred:\n",
            "\u001b[0;31mKeyboardInterrupt\u001b[0m                         Traceback (most recent call last)",
            "\u001b[0;32m<ipython-input-5-5b34a42a886f>\u001b[0m in \u001b[0;36m<module>\u001b[0;34m()\u001b[0m\n\u001b[1;32m     11\u001b[0m \u001b[0;34m\u001b[0m\u001b[0m\n\u001b[1;32m     12\u001b[0m \u001b[0;32mwhile\u001b[0m \u001b[0mx\u001b[0m \u001b[0;34m==\u001b[0m \u001b[0;36m1\u001b[0m\u001b[0;34m:\u001b[0m\u001b[0;34m\u001b[0m\u001b[0;34m\u001b[0m\u001b[0m\n\u001b[0;32m---> 13\u001b[0;31m  \u001b[0mlista\u001b[0m\u001b[0;34m.\u001b[0m\u001b[0mappend\u001b[0m\u001b[0;34m(\u001b[0m\u001b[0mint\u001b[0m\u001b[0;34m(\u001b[0m\u001b[0minput\u001b[0m\u001b[0;34m(\u001b[0m\u001b[0;34m'Digite um número: '\u001b[0m\u001b[0;34m)\u001b[0m\u001b[0;34m)\u001b[0m\u001b[0;34m)\u001b[0m\u001b[0;34m\u001b[0m\u001b[0;34m\u001b[0m\u001b[0m\n\u001b[0m\u001b[1;32m     14\u001b[0m \u001b[0;34m\u001b[0m\u001b[0m\n\u001b[1;32m     15\u001b[0m  \u001b[0my\u001b[0m \u001b[0;34m=\u001b[0m \u001b[0;36m3\u001b[0m\u001b[0;34m\u001b[0m\u001b[0;34m\u001b[0m\u001b[0m\n",
            "\u001b[0;32m/usr/local/lib/python3.7/dist-packages/ipykernel/kernelbase.py\u001b[0m in \u001b[0;36mraw_input\u001b[0;34m(self, prompt)\u001b[0m\n\u001b[1;32m    702\u001b[0m             \u001b[0mself\u001b[0m\u001b[0;34m.\u001b[0m\u001b[0m_parent_ident\u001b[0m\u001b[0;34m,\u001b[0m\u001b[0;34m\u001b[0m\u001b[0;34m\u001b[0m\u001b[0m\n\u001b[1;32m    703\u001b[0m             \u001b[0mself\u001b[0m\u001b[0;34m.\u001b[0m\u001b[0m_parent_header\u001b[0m\u001b[0;34m,\u001b[0m\u001b[0;34m\u001b[0m\u001b[0;34m\u001b[0m\u001b[0m\n\u001b[0;32m--> 704\u001b[0;31m             \u001b[0mpassword\u001b[0m\u001b[0;34m=\u001b[0m\u001b[0;32mFalse\u001b[0m\u001b[0;34m,\u001b[0m\u001b[0;34m\u001b[0m\u001b[0;34m\u001b[0m\u001b[0m\n\u001b[0m\u001b[1;32m    705\u001b[0m         )\n\u001b[1;32m    706\u001b[0m \u001b[0;34m\u001b[0m\u001b[0m\n",
            "\u001b[0;32m/usr/local/lib/python3.7/dist-packages/ipykernel/kernelbase.py\u001b[0m in \u001b[0;36m_input_request\u001b[0;34m(self, prompt, ident, parent, password)\u001b[0m\n\u001b[1;32m    732\u001b[0m             \u001b[0;32mexcept\u001b[0m \u001b[0mKeyboardInterrupt\u001b[0m\u001b[0;34m:\u001b[0m\u001b[0;34m\u001b[0m\u001b[0;34m\u001b[0m\u001b[0m\n\u001b[1;32m    733\u001b[0m                 \u001b[0;31m# re-raise KeyboardInterrupt, to truncate traceback\u001b[0m\u001b[0;34m\u001b[0m\u001b[0;34m\u001b[0m\u001b[0;34m\u001b[0m\u001b[0m\n\u001b[0;32m--> 734\u001b[0;31m                 \u001b[0;32mraise\u001b[0m \u001b[0mKeyboardInterrupt\u001b[0m\u001b[0;34m\u001b[0m\u001b[0;34m\u001b[0m\u001b[0m\n\u001b[0m\u001b[1;32m    735\u001b[0m             \u001b[0;32melse\u001b[0m\u001b[0;34m:\u001b[0m\u001b[0;34m\u001b[0m\u001b[0;34m\u001b[0m\u001b[0m\n\u001b[1;32m    736\u001b[0m                 \u001b[0;32mbreak\u001b[0m\u001b[0;34m\u001b[0m\u001b[0;34m\u001b[0m\u001b[0m\n",
            "\u001b[0;31mKeyboardInterrupt\u001b[0m: "
          ]
        }
      ],
      "source": [
        "lista = []\n",
        "\n",
        "x = 1\n",
        "soma = 0\n",
        "cont = 0\n",
        "maior = -1000000\n",
        "menor = 1000000\n",
        "pares = 0\n",
        "impares = 0\n",
        "contPares = 0\n",
        "\n",
        "while x == 1:\n",
        " lista.append(int(input('Digite um número: ')))\n",
        " \n",
        " y = 3\n",
        "\n",
        " while y != 0 and y != 1:\n",
        " \n",
        "  y = int(input('Sim [1] / Não [0] - Digitar outro número? '))\n",
        "\n",
        " x = y \n",
        "\n",
        " print('\\n')\n",
        "\n",
        "for i in range(len(lista)):\n",
        "\n",
        "  soma += lista[i]\n",
        "  cont += 1\n",
        "\n",
        "  if lista[i] > maior:\n",
        "    maior = lista[i]\n",
        "\n",
        "  if lista[i] < menor:\n",
        "    menor = lista[i]  \n",
        "\n",
        "  if lista[i] % 2 == 0:\n",
        "    pares += lista[i]\n",
        "    contPares += 1\n",
        "\n",
        "  if lista[i] % 2 >= 1:\n",
        "    impares += 1  \n",
        "\n",
        "media = soma / cont\n",
        "mediaPares = (pares / contPares)\n",
        "percent = (impares / cont) * 100\n",
        "\n",
        "print('----------------Resultados----------------')\n",
        "print(f'Soma dos valores ...................: {soma}')  \n",
        "print(f'Quantidade de valores ..............: {cont}') \n",
        "print(f'Média dos valores ..................: {media:.2f}') \n",
        "print(f'Maior valor ........................: {maior}') \n",
        "print(f'Menor valor ........................: {menor}')  \n",
        "print(f'Média dos números pares ............: {mediaPares:.2f}') \n",
        "print(f'Porcentagem impares entre o total ..: {percent:.2f}%') "
      ]
    },
    {
      "cell_type": "markdown",
      "metadata": {
        "id": "bkcZ301JB7Ew"
      },
      "source": [
        "31. Foi realizada uma pesquisa sobre algumas características físicas dos habitantes de uma região. Foram coletados os seguintes dados de cada habitante: sexo, cor dos olhos (A — azuis; ou C — castanhos), cor dos cabelos (L — louros; P — pretos; ou C — castanhos) e idade. Implemente os seguintes métodos:\n",
        "\n",
        "    1. `leia_dados()`: leia esses dados, armazene e retorne os dados em uma lista;\n",
        "    2. `media_idades(dados)`: calcula e retorne a média de idade das pessoas com olhos castanhos e cabelos pretos;\n",
        "    3. `maior_idade(dados)`: determina e retorne a maior idade entre os habitantes;\n",
        "    4. `frequencia_individuos(dados)`: calcula e retorna a quantidade de indivíduos do sexo feminino com idade entre 18 e 35 anos (inclusive) e que tenham olhos azuis e cabelos louros."
      ]
    },
    {
      "cell_type": "code",
      "execution_count": null,
      "metadata": {
        "id": "5-qUWon2B7Ew"
      },
      "outputs": [],
      "source": [
        ""
      ]
    },
    {
      "cell_type": "markdown",
      "metadata": {
        "id": "vw-EmumjB7Ex"
      },
      "source": [
        "32. Faça o método `analisa_numeros(numeros)` que receba uma lista de números como parâmetro, calcule e mostre:\n",
        "\n",
        "    1. A Soma dos números;\n",
        "    2. A quantidade de números;\n",
        "    3. A média dos números;\n",
        "    4. O maior número;\n",
        "    5. O menor número;\n",
        "    6. A média dos números pares;\n",
        "    7. A porcentagem dos números ímpares entre todos os números da lista."
      ]
    },
    {
      "cell_type": "code",
      "execution_count": null,
      "metadata": {
        "id": "hMerPS6fB7Ex"
      },
      "outputs": [],
      "source": [
        ""
      ]
    },
    {
      "cell_type": "markdown",
      "metadata": {
        "id": "Wa01lveeB7Ex"
      },
      "source": [
        "33. Uma empresa quer transmitir dados pelo telefone, mas está preocupada com a interceptação telefônica. Todos os seus dados são transmitidos  como inteiros de quatro dígitos. Ela pediu para que você escreva um programa que criptografe seus dados, para que eles possam ser transmitidos com mais segurança. Implemente a função `criptogra(numero)` que receba como parâmetro um número inteiro de quatro dígitos e criptografe-o da seguinte forma: \n",
        "\n",
        "    * Substitua cada um dos dígitos do número usando a seguinte fórmula: `(digito +  7) módulo 10`; \n",
        "    * Após a substituição, troque o primeiro dígito pelo terceiro e troque o segundo dígito pelo quarto;\n",
        "    * Retorne o número inteiro criptografado."
      ]
    },
    {
      "cell_type": "code",
      "execution_count": null,
      "metadata": {
        "id": "0zhPXPDaB7Ex"
      },
      "outputs": [],
      "source": [
        ""
      ]
    }
  ],
  "metadata": {
    "kernelspec": {
      "display_name": "Python 3",
      "language": "python",
      "name": "python3"
    },
    "language_info": {
      "codemirror_mode": {
        "name": "ipython",
        "version": 3
      },
      "file_extension": ".py",
      "mimetype": "text/x-python",
      "name": "python",
      "nbconvert_exporter": "python",
      "pygments_lexer": "ipython3",
      "version": "3.7.4"
    },
    "colab": {
      "name": "exercicios-python.ipynb",
      "provenance": []
    }
  },
  "nbformat": 4,
  "nbformat_minor": 0
}