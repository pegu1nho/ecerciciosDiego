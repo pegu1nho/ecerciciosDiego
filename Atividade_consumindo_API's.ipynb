{
  "cells": [
    {
      "cell_type": "markdown",
      "source": [
        "# atividades\n",
        "\n",
        "1) Modifique o seguinte código para retornar a resposta da requisição \"GET\" em formato XML:\n",
        "\n",
        ".\n",
        "\n",
        "import requests\n",
        "\n",
        "url = 'https://viacep.com.br/ws/'\n",
        "\n",
        "cep = '30140071'\n",
        "\n",
        "formato = '/json/'\n",
        "\n",
        "r = requests.get(url + cep + formato)\n",
        "\n",
        "if (r.status_code == 200):\n",
        " \n",
        " print()\n",
        " \n",
        " print('JSON : ', r.json())\n",
        " \n",
        " print()\n",
        "\n",
        "else:\n",
        " \n",
        " print('Nao houve sucesso na requisicao.')"
      ],
      "metadata": {
        "id": "G2XuoDVQJJTn"
      }
    },
    {
      "cell_type": "code",
      "source": [
        "import requests\n",
        "\n",
        "url = 'https://viacep.com.br/ws/'\n",
        "cep = '30140071'\n",
        "formato = '/xml/'\n",
        "\n",
        "r = requests.get(url + cep + formato)\n",
        "\n",
        "if (r.status_code == 200):\n",
        " print('Resposta get: ', r)\n",
        " print('XML : ', r.text)\n",
        " print()\n",
        "else:\n",
        " print('Nao houve sucesso na requisicao.')\n"
      ],
      "metadata": {
        "id": "P5aSqChsJMZn",
        "outputId": "eaa6b591-1049-4e14-9f7e-eaa5a74f3c00",
        "colab": {
          "base_uri": "https://localhost:8080/"
        }
      },
      "execution_count": null,
      "outputs": [
        {
          "output_type": "stream",
          "name": "stdout",
          "text": [
            "Resposta get:  <Response [200]>\n",
            "XML :  <?xml version=\"1.0\" encoding=\"UTF-8\"?>\n",
            "<xmlcep>\n",
            "  <cep>30140-071</cep>\n",
            "  <logradouro>Rua dos AimorÃ©s</logradouro>\n",
            "  <complemento>de 971/972 a 1399/1400</complemento>\n",
            "  <bairro>Boa Viagem</bairro>\n",
            "  <localidade>Belo Horizonte</localidade>\n",
            "  <uf>MG</uf>\n",
            "  <ibge>3106200</ibge>\n",
            "  <gia></gia>\n",
            "  <ddd>31</ddd>\n",
            "  <siafi>4123</siafi>\n",
            "</xmlcep>\n",
            "\n",
            "\n"
          ]
        }
      ]
    },
    {
      "cell_type": "markdown",
      "source": [
        "2) Modifique o código anterior para que, usando uma estrutura de repetição, consulte 5 CEPs sequenciais.\n",
        "\n",
        "Suponha que o CEP da sua casa seja 30140-071, o código Python deverá enviar 5 requisições com os seguintes CEPs: 30140071, 30140072, 30140073, 30140074 e 30140075\n"
      ],
      "metadata": {
        "id": "7BZiqJ5YKSOA"
      }
    },
    {
      "cell_type": "code",
      "source": [
        "import requests\n",
        "\n",
        "url = 'https://viacep.com.br/ws/'\n",
        "cep = int('30140071')\n",
        "formato = '/xml/'\n",
        "\n",
        "for i in range(5):\n",
        "\n",
        "  r = requests.get(url + str(cep) + formato)\n",
        "  \n",
        "  if (r.status_code == 200):\n",
        "    print('XML : ', r.text)\n",
        "  else:\n",
        "    print('Nao houve sucesso na requisicao.')\n",
        "\n",
        "  cep = cep + 1    "
      ],
      "metadata": {
        "id": "Ho9C2J7JKTJv",
        "colab": {
          "base_uri": "https://localhost:8080/"
        },
        "outputId": "8fad34ee-4936-4c04-f784-a9c05aa425aa"
      },
      "execution_count": null,
      "outputs": [
        {
          "output_type": "stream",
          "name": "stdout",
          "text": [
            "XML :  <?xml version=\"1.0\" encoding=\"UTF-8\"?>\n",
            "<xmlcep>\n",
            "  <cep>30140-071</cep>\n",
            "  <logradouro>Rua dos AimorÃ©s</logradouro>\n",
            "  <complemento>de 971/972 a 1399/1400</complemento>\n",
            "  <bairro>Boa Viagem</bairro>\n",
            "  <localidade>Belo Horizonte</localidade>\n",
            "  <uf>MG</uf>\n",
            "  <ibge>3106200</ibge>\n",
            "  <gia></gia>\n",
            "  <ddd>31</ddd>\n",
            "  <siafi>4123</siafi>\n",
            "</xmlcep>\n",
            "\n",
            "XML :  <?xml version=\"1.0\" encoding=\"UTF-8\"?>\n",
            "<xmlcep>\n",
            "  <cep>30140-072</cep>\n",
            "  <logradouro>Rua dos AimorÃ©s</logradouro>\n",
            "  <complemento>de 1401/1402 a 1799/1800</complemento>\n",
            "  <bairro>Lourdes</bairro>\n",
            "  <localidade>Belo Horizonte</localidade>\n",
            "  <uf>MG</uf>\n",
            "  <ibge>3106200</ibge>\n",
            "  <gia></gia>\n",
            "  <ddd>31</ddd>\n",
            "  <siafi>4123</siafi>\n",
            "</xmlcep>\n",
            "\n",
            "XML :  <?xml version=\"1.0\" encoding=\"UTF-8\"?>\n",
            "<xmlcep>\n",
            "  <cep>30140-073</cep>\n",
            "  <logradouro>Rua dos AimorÃ©s</logradouro>\n",
            "  <complemento>de 2761/2762 a 3299/3300</complemento>\n",
            "  <bairro>Barro Preto</bairro>\n",
            "  <localidade>Belo Horizonte</localidade>\n",
            "  <uf>MG</uf>\n",
            "  <ibge>3106200</ibge>\n",
            "  <gia></gia>\n",
            "  <ddd>31</ddd>\n",
            "  <siafi>4123</siafi>\n",
            "</xmlcep>\n",
            "\n",
            "XML :  <?xml version=\"1.0\" encoding=\"UTF-8\"?>\n",
            "<xmlcep>\n",
            "  <cep>30140-074</cep>\n",
            "  <logradouro>Rua dos AimorÃ©s</logradouro>\n",
            "  <complemento>de 1801/1802 a 2369/2370</complemento>\n",
            "  <bairro>Lourdes</bairro>\n",
            "  <localidade>Belo Horizonte</localidade>\n",
            "  <uf>MG</uf>\n",
            "  <ibge>3106200</ibge>\n",
            "  <gia></gia>\n",
            "  <ddd>31</ddd>\n",
            "  <siafi>4123</siafi>\n",
            "</xmlcep>\n",
            "\n",
            "XML :  <?xml version=\"1.0\" encoding=\"UTF-8\"?>\n",
            "<xmlcep>\n",
            "  <cep>30140-075</cep>\n",
            "  <logradouro>Rua dos Aimorés</logradouro>\n",
            "  <complemento>de 531/532 a 969/970</complemento>\n",
            "  <bairro>Funcionários</bairro>\n",
            "  <localidade>Belo Horizonte</localidade>\n",
            "  <uf>MG</uf>\n",
            "  <ibge>3106200</ibge>\n",
            "  <gia></gia>\n",
            "  <ddd>31</ddd>\n",
            "  <siafi>4123</siafi>\n",
            "</xmlcep>\n",
            "\n"
          ]
        }
      ]
    },
    {
      "cell_type": "markdown",
      "source": [
        "3) Modifique o código para que a consulta seja feita com um endereço (nome de rua), ao invés do CEP. \n",
        "\n",
        "Veja a URL de exemplo:\n",
        "\n",
        "viacep.com.br/ws/MG/Belo Horizonte/Rua dos Aimores/json/"
      ],
      "metadata": {
        "id": "GIMEKq4AkzjN"
      }
    },
    {
      "cell_type": "code",
      "source": [
        "import requests\n",
        "\n",
        "url = 'https://viacep.com.br/ws/MG/Belo%20Horizonte/'\n",
        "logradouro = 'Rua%20dos%20Aimores'\n",
        "formato = '/xml/'\n",
        "\n",
        "r = requests.get(url + logradouro + formato)\n",
        "\n",
        "if (r.status_code == 200):\n",
        " print('Resposta get: ', r)\n",
        " print('XML : ', r.text)\n",
        "else:\n",
        " print('Nao houve sucesso na requisicao.')"
      ],
      "metadata": {
        "colab": {
          "base_uri": "https://localhost:8080/"
        },
        "id": "PXgGyeWrk1N2",
        "outputId": "3ea28a60-77c8-49b8-a29c-bacd9d4b1411"
      },
      "execution_count": null,
      "outputs": [
        {
          "output_type": "stream",
          "name": "stdout",
          "text": [
            "Resposta get:  <Response [200]>\n",
            "XML :  <?xml version=\"1.0\" encoding=\"UTF-8\"?>\n",
            "<xmlcep>\n",
            "\t<enderecos>\n",
            "\t\t<endereco>\n",
            "\t\t\t<cep>30140-073</cep>\n",
            "\t\t\t<logradouro>Rua dos Aimorés</logradouro>\n",
            "\t\t\t<complemento>de 2761/2762 a 3299/3300</complemento>\n",
            "\t\t\t<bairro>Barro Preto</bairro>\n",
            "\t\t\t<localidade>Belo Horizonte</localidade>\n",
            "\t\t\t<uf>MG</uf>\n",
            "\t\t\t<ibge>3106200</ibge>\n",
            "\t\t\t<gia></gia>\n",
            "\t\t\t<ddd>31</ddd>\n",
            "\t\t\t<siafi>4123</siafi>\n",
            "\t\t</endereco>\n",
            "\t\t<endereco>\n",
            "\t\t\t<cep>30140-920</cep>\n",
            "\t\t\t<logradouro>Rua dos Aimorés</logradouro>\n",
            "\t\t\t<complemento>66</complemento>\n",
            "\t\t\t<bairro>Funcionários</bairro>\n",
            "\t\t\t<localidade>Belo Horizonte</localidade>\n",
            "\t\t\t<uf>MG</uf>\n",
            "\t\t\t<ibge>3106200</ibge>\n",
            "\t\t\t<gia></gia>\n",
            "\t\t\t<ddd>31</ddd>\n",
            "\t\t\t<siafi>4123</siafi>\n",
            "\t\t</endereco>\n",
            "\t\t<endereco>\n",
            "\t\t\t<cep>30140-076</cep>\n",
            "\t\t\t<logradouro>Rua dos Aimorés</logradouro>\n",
            "\t\t\t<complemento>de 2371/2372 a 2759/2760</complemento>\n",
            "\t\t\t<bairro>Santo Agostinho</bairro>\n",
            "\t\t\t<localidade>Belo Horizonte</localidade>\n",
            "\t\t\t<uf>MG</uf>\n",
            "\t\t\t<ibge>3106200</ibge>\n",
            "\t\t\t<gia></gia>\n",
            "\t\t\t<ddd>31</ddd>\n",
            "\t\t\t<siafi>4123</siafi>\n",
            "\t\t</endereco>\n",
            "\t\t<endereco>\n",
            "\t\t\t<cep>30140-078</cep>\n",
            "\t\t\t<logradouro>Rua dos Aimorés</logradouro>\n",
            "\t\t\t<complemento>de 3301/3302 ao fim</complemento>\n",
            "\t\t\t<bairro>Barro Preto</bairro>\n",
            "\t\t\t<localidade>Belo Horizonte</localidade>\n",
            "\t\t\t<uf>MG</uf>\n",
            "\t\t\t<ibge>3106200</ibge>\n",
            "\t\t\t<gia></gia>\n",
            "\t\t\t<ddd>31</ddd>\n",
            "\t\t\t<siafi>4123</siafi>\n",
            "\t\t</endereco>\n",
            "\t\t<endereco>\n",
            "\t\t\t<cep>30140-075</cep>\n",
            "\t\t\t<logradouro>Rua dos Aimorés</logradouro>\n",
            "\t\t\t<complemento>de 531/532 a 969/970</complemento>\n",
            "\t\t\t<bairro>Funcionários</bairro>\n",
            "\t\t\t<localidade>Belo Horizonte</localidade>\n",
            "\t\t\t<uf>MG</uf>\n",
            "\t\t\t<ibge>3106200</ibge>\n",
            "\t\t\t<gia></gia>\n",
            "\t\t\t<ddd>31</ddd>\n",
            "\t\t\t<siafi>4123</siafi>\n",
            "\t\t</endereco>\n",
            "\t\t<endereco>\n",
            "\t\t\t<cep>30140-071</cep>\n",
            "\t\t\t<logradouro>Rua dos Aimorés</logradouro>\n",
            "\t\t\t<complemento>de 971/972 a 1399/1400</complemento>\n",
            "\t\t\t<bairro>Boa Viagem</bairro>\n",
            "\t\t\t<localidade>Belo Horizonte</localidade>\n",
            "\t\t\t<uf>MG</uf>\n",
            "\t\t\t<ibge>3106200</ibge>\n",
            "\t\t\t<gia></gia>\n",
            "\t\t\t<ddd>31</ddd>\n",
            "\t\t\t<siafi>4123</siafi>\n",
            "\t\t</endereco>\n",
            "\t\t<endereco>\n",
            "\t\t\t<cep>30140-070</cep>\n",
            "\t\t\t<logradouro>Rua dos Aimorés</logradouro>\n",
            "\t\t\t<complemento>até 529/530</complemento>\n",
            "\t\t\t<bairro>Funcionários</bairro>\n",
            "\t\t\t<localidade>Belo Horizonte</localidade>\n",
            "\t\t\t<uf>MG</uf>\n",
            "\t\t\t<ibge>3106200</ibge>\n",
            "\t\t\t<gia></gia>\n",
            "\t\t\t<ddd>31</ddd>\n",
            "\t\t\t<siafi>4123</siafi>\n",
            "\t\t</endereco>\n",
            "\t\t<endereco>\n",
            "\t\t\t<cep>30140-072</cep>\n",
            "\t\t\t<logradouro>Rua dos Aimorés</logradouro>\n",
            "\t\t\t<complemento>de 1401/1402 a 1799/1800</complemento>\n",
            "\t\t\t<bairro>Lourdes</bairro>\n",
            "\t\t\t<localidade>Belo Horizonte</localidade>\n",
            "\t\t\t<uf>MG</uf>\n",
            "\t\t\t<ibge>3106200</ibge>\n",
            "\t\t\t<gia></gia>\n",
            "\t\t\t<ddd>31</ddd>\n",
            "\t\t\t<siafi>4123</siafi>\n",
            "\t\t</endereco>\n",
            "\t\t<endereco>\n",
            "\t\t\t<cep>30140-904</cep>\n",
            "\t\t\t<logradouro>Rua dos Aimorés</logradouro>\n",
            "\t\t\t<complemento>462</complemento>\n",
            "\t\t\t<bairro>Funcionários</bairro>\n",
            "\t\t\t<localidade>Belo Horizonte</localidade>\n",
            "\t\t\t<uf>MG</uf>\n",
            "\t\t\t<ibge>3106200</ibge>\n",
            "\t\t\t<gia></gia>\n",
            "\t\t\t<ddd>31</ddd>\n",
            "\t\t\t<siafi>4123</siafi>\n",
            "\t\t</endereco>\n",
            "\t\t<endereco>\n",
            "\t\t\t<cep>30140-074</cep>\n",
            "\t\t\t<logradouro>Rua dos Aimorés</logradouro>\n",
            "\t\t\t<complemento>de 1801/1802 a 2369/2370</complemento>\n",
            "\t\t\t<bairro>Lourdes</bairro>\n",
            "\t\t\t<localidade>Belo Horizonte</localidade>\n",
            "\t\t\t<uf>MG</uf>\n",
            "\t\t\t<ibge>3106200</ibge>\n",
            "\t\t\t<gia></gia>\n",
            "\t\t\t<ddd>31</ddd>\n",
            "\t\t\t<siafi>4123</siafi>\n",
            "\t\t</endereco>\n",
            "\t</enderecos>\n",
            "</xmlcep>\n",
            "\n"
          ]
        }
      ]
    },
    {
      "cell_type": "markdown",
      "source": [
        "4) Modifique o primeiro código de tal forma que o endereço \" https://viacep.com.br/abc/\" tente ser acessado. Exiba o código de retorno e o texto."
      ],
      "metadata": {
        "id": "51EMKwAwqE7d"
      }
    },
    {
      "cell_type": "code",
      "source": [
        "import requests\n",
        "\n",
        "url = 'https://viacep.com.br/abc/'\n",
        "cep = '30140071'\n",
        "formato = '/xml/'\n",
        "\n",
        "r = requests.get(url + cep + formato)\n",
        "\n",
        "print('Resposta get: ', r)\n",
        "print('\\nXML : ', r.text) "
      ],
      "metadata": {
        "colab": {
          "base_uri": "https://localhost:8080/"
        },
        "id": "qgZGQNw5qJ9U",
        "outputId": "75bed8c5-b31a-4c30-af71-0e172b5fab9e"
      },
      "execution_count": null,
      "outputs": [
        {
          "output_type": "stream",
          "name": "stdout",
          "text": [
            "Resposta get:  <Response [404]>\n",
            "\n",
            "XML :  <!DOCTYPE HTML>\n",
            "<html lang=\"pt-br\">\n",
            "<head>\n",
            "<title>ViaCEP 404</title>\n",
            "<meta charset=\"utf-8\"/>\n",
            "<style type=\"text/css\">h1{color:#555;text-align:center;font-size:4em}h2,h3{color:#666;text-align:center;font-size:3em}h3{font-size:1.5em}</style>\n",
            "</head>\n",
            "<body>\n",
            "<h1>Http 404</h1>\n",
            "<h3>Página Não Encontrada</h3>\n",
            "<h3>{Not Found}</h3>\n",
            "</body>\n",
            "</html>\n",
            "\n"
          ]
        }
      ]
    }
  ],
  "metadata": {
    "colab": {
      "collapsed_sections": [],
      "name": "Atividade consumindo API's",
      "provenance": []
    },
    "kernelspec": {
      "display_name": "Python 3",
      "name": "python3"
    }
  },
  "nbformat": 4,
  "nbformat_minor": 0
}